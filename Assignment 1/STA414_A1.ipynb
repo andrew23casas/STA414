{
  "nbformat": 4,
  "nbformat_minor": 0,
  "metadata": {
    "colab": {
      "provenance": []
    },
    "kernelspec": {
      "name": "python3",
      "display_name": "Python 3"
    },
    "language_info": {
      "name": "python"
    }
  },
  "cells": [
    {
      "cell_type": "markdown",
      "source": [
        "Last Edited: 2024-01-23\n",
        "\n",
        "Changes:\n"
      ],
      "metadata": {
        "id": "fBeKYERsR9b6"
      }
    },
    {
      "cell_type": "markdown",
      "source": [
        "- **Deadline**: Feb 5, at 23:59PM.\n",
        "- **Submission**: You need to submit your solutions through Crowdmark, including all your derivations, plots, and your code. You can produce the files however you like (e.g. LATEX, Microsoft Word, etc), as long as it is readable. Points will be deducted if we have a hard time reading your solutions or understanding the structure of your code.\n",
        "- **Collaboration policy**: After attempting the problems on an individual basis, you may discuss and work together on the assignment with up to two classmates. However, **you must write your own code and write up your own solutions individually and explicitly name any collaborators** at the top of the homework."
      ],
      "metadata": {
        "id": "ZD9tV8zbU2dp"
      }
    },
    {
      "cell_type": "markdown",
      "source": [
        "# Q1 - Decision Theory"
      ],
      "metadata": {
        "id": "QI9CD9BCoh5a"
      }
    },
    {
      "cell_type": "markdown",
      "source": [
        "One successful use of probabilistic models is for building spam filters, which take in an email and take different actions depending on the likelihood that it’s spam.\n",
        "\n",
        "Imagine you are running an email service. You have a well-calibrated spam classifier that tells you the probability that a particular email is spam: $p(spam|email)$. You have three options for what to do with each email: You can list it as important email, show it to the user, put it in the spam folder, or delete it entirely.\n",
        "\n",
        "Depending on whether or not the email really is spam, the user will suffer a different amount  of wasted time for the different actions we can take, $L$(action, spam):\n",
        "\n",
        "Action   | Spam        | Not spam\n",
        "-------- | ----------- | -----------\n",
        "Important| 15         | 0\n",
        "Show     | 5          | 1\n",
        "Folder   | 1           | 40\n",
        "Delete   | 0           | 150"
      ],
      "metadata": {
        "id": "lqGwGkzkokTV"
      }
    },
    {
      "cell_type": "markdown",
      "source": [],
      "metadata": {
        "id": "MrQFeFh6eq1f"
      }
    },
    {
      "cell_type": "markdown",
      "source": [
        "## Q1.1\n",
        "[3pts] Plot the expected wasted user time for each of the three possible actions, as a function of the probability of spam: $p(spam|email)$."
      ],
      "metadata": {
        "id": "2V_k3L8ByUs9"
      }
    },
    {
      "cell_type": "code",
      "source": [
        "import numpy as np\n",
        "import matplotlib.pyplot as plt"
      ],
      "metadata": {
        "id": "rAwFc8cVSXtW"
      },
      "execution_count": null,
      "outputs": []
    },
    {
      "cell_type": "code",
      "source": [
        "losses = [[15, 0],[5, 1], [1, 40],[0, 150]]\n",
        "actions_names = ['Important','Show', 'Folder', 'Delete']\n",
        "num_actions = len(losses)\n",
        "def expected_loss_of_action(prob_spam, action):\n",
        "    return prob_spam * losses[action][1] + (1 - prob_spam) * losses[action][0]\n",
        "    # with mean prob_spam.\n",
        "    # Losses are given by the table above.\n",
        "    \n",
        "prob_range = np.linspace(0., 1., num=600) \n",
        "\n",
        "# Make plot\n",
        "for action in range(num_actions):\n",
        "    plt.plot(prob_range, expected_loss_of_action(prob_range, action), label=actions_names[action])\n",
        "\n",
        "plt.xlabel('$p(spam|email)$')\n",
        "plt.ylabel('Expected loss of action')\n",
        "plt.legend()\n"
      ],
      "metadata": {
        "id": "CwqF1QStyUI0",
        "outputId": "1eeb7e32-c2bc-4164-b386-b59b7f105cb3",
        "colab": {
          "base_uri": "https://localhost:8080/",
          "height": 300
        }
      },
      "execution_count": null,
      "outputs": [
        {
          "output_type": "execute_result",
          "data": {
            "text/plain": [
              "<matplotlib.legend.Legend at 0x7f7e7f2cd310>"
            ]
          },
          "metadata": {},
          "execution_count": 40
        },
        {
          "output_type": "display_data",
          "data": {
            "text/plain": [
              "<Figure size 432x288 with 1 Axes>"
            ],
            "image/png": "[encoded data removed]"
          },
          "metadata": {
            "needs_background": "light"
          }
        }
      ]
    },
    {
      "cell_type": "markdown",
      "source": [
        "## Q1.2\n",
        "[2pts] Write a function that computes the optimal action given the probability of spam."
      ],
      "metadata": {
        "id": "oqtMD5X4NZ1d"
      }
    },
    {
      "cell_type": "code",
      "source": [
        "def optimal_action(prob_spam):\n",
        "    expected_losses = [expected_loss_of_action(prob_spam, action) for action in range(num_actions)]\n",
        "    return np.argmin(expected_losses)\n",
        "    "
      ],
      "metadata": {
        "id": "7gLS3sO1NiPv"
      },
      "execution_count": null,
      "outputs": []
    },
    {
      "cell_type": "markdown",
      "source": [
        "## Q1.3\n",
        "[4pts] Plot the expected loss of the optimal action as a function of the probability of spam.\n",
        "\n",
        "\n",
        "Color the line according to the optimal action for that probability of spam.\n"
      ],
      "metadata": {
        "id": "TaIhABveNinu"
      }
    },
    {
      "cell_type": "code",
      "source": [
        "prob_range = np.linspace(0., 1., num=600) \n",
        "optimal_losses = []\n",
        "optimal_actions = []\n",
        "for p in prob_range:\n",
        "    optimal_act = optimal_action(p)\n",
        "    optimal_actions.append(optimal_act)\n",
        "    optimal_losses.append(expected_loss_of_action(p, optimal_act))\n",
        "    # TODO: Compute the optimal action and its expected loss for\n",
        "    # probability of spam given by p.\n",
        "\n",
        "plt.xlabel('p(spam|email)')\n",
        "plt.ylabel('Expected loss of optimal action')\n",
        "plt.plot(prob_range, optimal_losses)\n",
        "colors = ['red', 'blue', 'green', 'yellow']\n",
        "for i in range(num_actions):\n",
        "    mask = np.array(optimal_actions) == i\n",
        "    plt.plot(prob_range[mask], np.array(optimal_losses)[mask], color=colors[i], label=actions_names[i])\n",
        "\n",
        "plt.legend()\n",
        "plt.show()\n",
        "\n",
        "\n",
        "\n",
        "\n"
      ],
      "metadata": {
        "id": "Gdk3OQLONo-P",
        "colab": {
          "base_uri": "https://localhost:8080/",
          "height": 280
        },
        "outputId": "b3aa91dd-b90c-4aa3-99e2-617cc742c88e"
      },
      "execution_count": null,
      "outputs": [
        {
          "output_type": "display_data",
          "data": {
            "text/plain": [
              "<Figure size 432x288 with 1 Axes>"
            ],
            "image/png": "[encoded data removed]"
          },
          "metadata": {
            "needs_background": "light"
          }
        }
      ]
    },
    {
      "cell_type": "markdown",
      "source": [
        "## Q1.4\n",
        "[4pts] For exactly which range of the probabilities of an email being spam should we delete an email?\n",
        "\n",
        "Find the exact answer by hand using algebra."
      ],
      "metadata": {
        "id": "M0eRJyGdNpXA"
      }
    },
    {
      "cell_type": "markdown",
      "source": [
        "The expected loss of the \"Delete\" action can be calculated as:   \n",
        "$E(Delete) = 0 * (1 - p) + 150 * p$\n",
        "\n",
        "The expected loss of the \"Important\" action can be calculated as:\n",
        "\n",
        "$E(Important) = 15 * (1 - p) + 0 * p$\n",
        "\n",
        "The expected loss of the \"Show\" action can be calculated as:\n",
        "\n",
        "$E(Show) = 5 * (1 - p) + 1 * p$\n",
        "\n",
        "The expected loss of the \"Folder\" action can be calculated as:\n",
        "\n",
        "$E(Folder) = 1 * (1 - p) + 40 * p$\n",
        "\n",
        "\n",
        "We can notice that the when the optimal action is to delete, $E[Delete] > E[Folder]$\n",
        "   \n",
        "\n",
        "Solving for these equations we get:\n",
        "\n",
        "$E[Folder] = 40 - 39P(spam|email)$      \n",
        "$E[Delete] = 150- 150P(spam|email)$\n",
        "\n",
        "Where we can now see the intersection of the range is:\n",
        "\n",
        "$110/111 < P(spam|email) < 1$\n",
        "\n",
        "Your answer:      \n",
        "So, for the range of probabilities of an email being spam from 110/111 to 1, we should delete an email.\n"
      ],
      "metadata": {
        "id": "fr_ghgvoUz5p"
      }
    },
    {
      "cell_type": "markdown",
      "source": [
        "# Q2 - Naïve Bayes, A Generative Model"
      ],
      "metadata": {
        "id": "H1kRdfM6ol0R"
      }
    },
    {
      "cell_type": "markdown",
      "source": [
        "![](https://github.com/zalandoresearch/fashion-mnist/blob/master/doc/img/fashion-mnist-sprite.png?raw=true)\n",
        "\n",
        "\n",
        "In this question, we'll fit a Naïve Bayes model to the fashion MNIST dataset, and use this model for making predictions and generating new images from the same distribution. MNIST is a dataset of 28x28 black-and-white images of items of clothing. We represent each image by a vector $x^{(i)} \\in \\{0,1\\}^{784}$, where 0 and 1 represent white and black pixels respectively. Each class label $c^{(i)}$ is a different item of clothing, which in the code is represented by a 10-dimensional one-hot vector.\n",
        "\n",
        "The Naïve Bayes model parameterized by $\\theta$ and $\\pi$ defines the following joint probability of $x$ and $c$,\n",
        "$$p(x,c|\\theta,\\pi) = p(c|\\pi)p(x|c,\\theta) = p(c|\\pi)\\prod_{j=1}^{784}p(x_j|c,\\theta),$$\n",
        "where $x_j | c,\\theta \\sim \\operatorname{Bernoulli}(\\theta_{jc})$ or in other words $p(x_j | c,\\theta) = \\theta_{jc}^{x_j}(1-\\theta_{jc})^{1-x_j}$, and $c|\\pi$ follows a simple categorical distribution, i.e. $p(c|\\pi) = \\pi_c$.\n",
        "\n",
        "We begin by learning the parameters $\\theta$ and $\\pi$. The following code will download and prepare the training and test sets."
      ],
      "metadata": {
        "id": "Je6H8FAKpqmF"
      }
    },
    {
      "cell_type": "code",
      "source": [
        "import numpy as np\n",
        "import os\n",
        "import gzip\n",
        "import struct\n",
        "import array\n",
        "import matplotlib.pyplot as plt\n",
        "import matplotlib.image\n",
        "from urllib.request import urlretrieve\n",
        "\n",
        "def download(url, filename):\n",
        "    if not os.path.exists('data'):\n",
        "        os.makedirs('data')\n",
        "    out_file = os.path.join('data', filename)\n",
        "    if not os.path.isfile(out_file):\n",
        "        urlretrieve(url, out_file)\n",
        "\n",
        "\n",
        "def fashion_mnist():\n",
        "    base_url = 'http://fashion-mnist.s3-website.eu-central-1.amazonaws.com/'\n",
        "\n",
        "    def parse_labels(filename):\n",
        "        with gzip.open(filename, 'rb') as fh:\n",
        "            magic, num_data = struct.unpack(\">II\", fh.read(8))\n",
        "            return np.array(array.array(\"B\", fh.read()), dtype=np.uint8)\n",
        "\n",
        "    def parse_images(filename):\n",
        "        with gzip.open(filename, 'rb') as fh:\n",
        "            magic, num_data, rows, cols = struct.unpack(\">IIII\", fh.read(16))\n",
        "            return np.array(array.array(\"B\", fh.read()), dtype=np.uint8).reshape(num_data, rows, cols)\n",
        "\n",
        "    for filename in ['train-images-idx3-ubyte.gz',\n",
        "                     'train-labels-idx1-ubyte.gz',\n",
        "                     't10k-images-idx3-ubyte.gz',\n",
        "                     't10k-labels-idx1-ubyte.gz']:\n",
        "        download(base_url + filename, filename)\n",
        "\n",
        "    train_images = parse_images('data/train-images-idx3-ubyte.gz')\n",
        "    train_labels = parse_labels('data/train-labels-idx1-ubyte.gz')\n",
        "    test_images = parse_images('data/t10k-images-idx3-ubyte.gz')\n",
        "    test_labels = parse_labels('data/t10k-labels-idx1-ubyte.gz')\n",
        "    # Remove the data point that cause log(0)\n",
        "    remove = (14926, 20348, 36487, 45128, 50945, 51163, 55023)\n",
        "    train_images = np.delete(train_images,remove, axis=0)\n",
        "    train_labels = np.delete(train_labels, remove, axis=0)\n",
        "    return train_images, train_labels, test_images[:1000], test_labels[:1000]\n",
        "\n",
        "\n",
        "def load_fashion_mnist():\n",
        "    partial_flatten = lambda x: np.reshape(x, (x.shape[0], np.prod(x.shape[1:])))\n",
        "    one_hot = lambda x, k: np.array(x[:, None] == np.arange(k)[None, :], dtype=int)\n",
        "    train_images, train_labels, test_images, test_labels =  fashion_mnist()\n",
        "    train_images = (partial_flatten(train_images) / 255.0 > .5).astype(float)\n",
        "    test_images = (partial_flatten(test_images) / 255.0 > .5).astype(float)\n",
        "    train_labels = one_hot(train_labels, 10)\n",
        "    test_labels = one_hot(test_labels, 10)\n",
        "    N_data = train_images.shape[0]\n",
        "\n",
        "    return N_data, train_images, train_labels, test_images, test_labels"
      ],
      "metadata": {
        "id": "k587bbiSvhB4"
      },
      "execution_count": null,
      "outputs": []
    },
    {
      "cell_type": "markdown",
      "source": [
        "## Q2.1\n",
        "[2pts] Derive the expression for the Maximum Likelihood Estimator (MLE) of $\\theta$ and $\\pi$."
      ],
      "metadata": {
        "id": "qgGhDuEBvuMI"
      }
    },
    {
      "cell_type": "markdown",
      "source": [
        "First we will find the natural log of the function:\n",
        "$ln(p(x,c|θ,π)) = ln(p(c|π)) + ln(p(x|c,θ)) $     \n",
        "$= ln(π_c) + ∑_{j=1}^{784} ln(θ^{x_j}_{jc}(1−θ_{jc})^{1−x_j})$       \n",
        "$= ln(π_c) + ∑_{j=1}^{784} ( ln(θ^{x_j}_{jc}) + ln(1-θ_{jc}^{1-x_j}))$       \n",
        "$\\frac{d}{dπ_c}ln(π_c) + ∑_{j=1}^{784} ( ln(θ^{x_j}_{jc}) + ln(1-θ_{jc}^{1-x_j}))$       \n",
        "$= 1/π_c$     \n",
        "then $ π_c = N_c/N$ where $N_c$ is the number of samples in class c      \n",
        "$\\frac{d}{dθ}ln(π_c) + ∑_{j=1}^{784} ( ln(θ^{xj}_{jc}) + ln(1-θ_{jc}^{1-x_j}))$     \n",
        "$= x_j/θ_{jc} - (1-x_j)/(1-θ_{jc})$\n",
        "$θ_{jc} = N_{cj}/N_c $ Where $N_{cj}$ is the number of samples of class c with feature j.         \n",
        "Your answer:       \n",
        " $ π_c = N_c/N$ where $N_c$ is the number of samples in class c        \n",
        "$θ_{jc} = N_{cj}/N_c $ Where $N_{cj}$ is the number of samples of class c with feature j.   \n"
      ],
      "metadata": {
        "id": "cISpi3BUOdEp"
      }
    },
    {
      "cell_type": "markdown",
      "source": [
        "## Q2.2\n",
        "[4pts] Using the MLE for this data, many entries of $\\theta$ will be estimated to be 0, which seems extreme. So we look for another estimation method.\n",
        "\n",
        "Assume the prior distribution of $\\theta$ is such that the entries are i.i.d. and drawn from $\\operatorname{Beta}(2,2)$. Derive the Maximum A Posteriori (MAP) estimator for $\\theta$ (it has a simple final form). You can return the MLE for $\\pi$ in your implementation. From now on, we will work with this estimator."
      ],
      "metadata": {
        "id": "gTMSP01Sw-F5"
      }
    },
    {
      "cell_type": "markdown",
      "source": [
        "The prior distribution for θ is given by the Beta distribution, Beta(2,2)       \n",
        "$→$ let $h(θ) = \\frac{θ(1-θ)}{6}.$       \n",
        "we can drop the denominator since it is a constant and evaluate $f(x|θ)h(θ)$ where $f(x|θ)$ is the likelihood given.\n",
        "\n",
        "we will apply the natural log to this function, giving us,      \n",
        "$ln(f(x|θ)h(θ) = Σ_{i=1}^NΣ_{i=1}^{784} (x^{(i)} ln(θ_{jc^{(i)}}) + 1- x_j^{(i)} ln(1-θ_{jc^{(i)}}))+Σ_{c=0}^{N_c}Σ_{j=1}^{784}(ln(\\theta_{jc} + ln(1-θ_{jc}))$\n",
        "\n",
        "Now we calculate the derivative,      \n",
        "$\\frac{d ln(f(x|θ)h(θ)}{d θ_{jc}} = Σ_{i=1}^{N}(\\frac{(x_j^{(i)}-θ_{jc})1(c^{(i)}=c)}{θ_{jc}(1-\\theta_{jc})}) +\\frac{1}{θ_{jc}}-\\frac{1}{1-\\theta_{jc}}$        \n",
        "we set this to zero and solve for $\\hat{θ_{MAP}}$              \n",
        "$= \\frac{1+ Σ^N_{i=1}x_j^{(i)} 1(c^{(i)} = c)}{2+ Σ^N_{i=1}1(c^{(i)} = c)} $          \n",
        "\n",
        "\n",
        "\n",
        "Your answer:               \n",
        "Using the same notation as the previous question:\n",
        "$\\hat{θ_{MAP}} = \\frac{1+N_{cj}}{2+ N_c}$\n",
        "       "
      ],
      "metadata": {
        "id": "uI3hcFf1Of82"
      }
    },
    {
      "cell_type": "code",
      "source": [
        "def train_map_estimator(train_images, train_labels):\n",
        "    \"\"\" Inputs: train_images (N_samples x N_features), train_labels (N_samples x N_classes)\n",
        "        Returns the MAP estimator theta_est (N_features x N_classes) and the MLE\n",
        "        estimator pi_est (N_classes)\"\"\"\n",
        "    \n",
        "    N_samples, N_features = train_images.shape\n",
        "    x, N_classes = train_labels.shape\n",
        "    \n",
        "    # MLE estimator for pi\n",
        "    pi_est = np.mean(train_labels, axis = 0)\n",
        "    \n",
        "    # MAP estimator for theta\n",
        "    theta_est = np.zeros((N_features, N_classes))\n",
        "    for c in range(N_classes):\n",
        "        theta_c = np.sum(train_images * train_labels[:, c][:, np.newaxis], axis=0) + 2\n",
        "        theta_c /= np.sum(train_labels[:, c]) + 4\n",
        "        theta_est[:, c] = theta_c\n",
        "    \n",
        "    return theta_est, pi_est\n"
      ],
      "metadata": {
        "id": "v49Abi0uxeII"
      },
      "execution_count": null,
      "outputs": []
    },
    {
      "cell_type": "markdown",
      "source": [
        "## Q2.3\n",
        "[5pts] Derive an expression for the class log-likelihood $\\log p(c|x,\\theta,\\pi)$ for a single image. Then, complete the implementation of the following functions. Recall that our prediction rule is to choose the class that maximizes the above log-likelihood, and accuracy is defined as the fraction of samples that are correctly predicted.\n",
        "\n",
        "Report the average log-likelihood $\\frac{1}{N}\\sum_{i=1}^{N}\\log p(c^{(i)}|x^{(i)},\\hat{\\theta},\\hat{\\pi})$ (where $N$ is the number of samples) on the training test, as well the training and test errors."
      ],
      "metadata": {
        "id": "7yO5yq0dyus4"
      }
    },
    {
      "cell_type": "markdown",
      "source": [
        "By Bayes rule we know\n",
        "\n",
        "$log(p(c|x,θ,π)) = log \\frac{p(x,c|θ,π)}{p(x|θ, π)}$      \n",
        "where, $ p(x|θ, π) = Σ^{10}_{c=1}(p(c_i = 1|π)Π^{784}_{j=1}p(x_j|c_i = 1, \\theta_{jc})$            \n",
        "$= Σ^{10}_{c=1}(\\pi^{c_i}_i Π^{784}_{j=1}θ_{jc_i}^{x_j}(1-\\theta_{jc_i})^{1-x_j})$       \n",
        "Your answer:     \n",
        "$p(c|x,θ,π)) = Σ^{10}_{c=1}c_jlog(π_j)+Σ^{784}_{j=1}x_j^{(i)} log (θ_{jc}+ (1-x^{(i)}_j)log(1-θ_{jc}) - logΣ^{10}_{c=1}(\\pi^{c_i}_i Π^{784}_{j=1}θ_{jc_i}^{x_j}(1-\\theta_{jc_i})^{1-x_j})$               "
      ],
      "metadata": {
        "id": "36FW8dZpOhb7"
      }
    },
    {
      "cell_type": "code",
      "source": [
        "def log_likelihood(images, theta, pi):\n",
        "    \"\"\" Inputs: images (N_samples x N_features), theta, pi\n",
        "        Returns the matrix 'log_like' of loglikehoods over the input images where\n",
        "        log_like[i,c] = log p (c |x^(i), theta, pi) using the estimators theta and pi.\n",
        "        log_like is a matrix of (N_samples x N_classes)\n",
        "    Note that log likelihood is not only for c^(i), it is for all possible c's.\"\"\"\n",
        "\n",
        "    # YOU NEED TO WRITE THIS PART\n",
        "    log_prob_classes = np.log(pi)\n",
        "    log_prob_images_given_classes = np.dot(images, np.log(theta)) + np.dot((1 - images), np.log(1 - theta)) + log_prob_classes\n",
        "    log_sum = np.log(np.sum(np.exp(log_prob_classes + log_prob_images_given_classes), axis=1)).reshape((images.shape[0], 1))\n",
        "\n",
        "    return log_prob_images_given_classes - log_sum\n",
        "\n",
        "\n",
        "def accuracy(log_like, labels):\n",
        "    \"\"\" Inputs: matrix of log likelihoods and 1-of-K labels (N_samples x N_classes)\n",
        "    Returns the accuracy based on predictions from log likelihood values\"\"\"\n",
        "\n",
        "    # YOU NEED TO WRITE THIS PART\n",
        "    N_samples, N_classes = labels.shape\n",
        "    y_pred = np.argmax(log_like, axis=1)\n",
        "    y_true = np.argmax(labels, axis=1)\n",
        "    \n",
        "    accuracy = np.mean(y_pred == y_true)\n",
        "    \n",
        "    return accuracy\n",
        "\n",
        "N_data, train_images, train_labels, test_images, test_labels = load_fashion_mnist()\n",
        "theta_est, pi_est = train_map_estimator(train_images, train_labels)\n",
        "\n",
        "loglike_train = log_likelihood(train_images, theta_est, pi_est)\n",
        "avg_loglike = np.sum(loglike_train * train_labels) / N_data\n",
        "train_accuracy = accuracy(loglike_train, train_labels)\n",
        "loglike_test = log_likelihood(test_images, theta_est, pi_est)\n",
        "test_accuracy = accuracy(loglike_test, test_labels)\n",
        "\n",
        "print(f\"Average log-likelihood for MAP is {avg_loglike:.3f}\")\n",
        "print(f\"Training accuracy for MAP is {train_accuracy:.3f}\")\n",
        "print(f\"Test accuracy for MAP is {test_accuracy:.3f}\")"
      ],
      "metadata": {
        "id": "6RZwBnVh0Zoo",
        "colab": {
          "base_uri": "https://localhost:8080/"
        },
        "outputId": "f282d7a1-855a-4735-d45c-054e9f5ec63e"
      },
      "execution_count": null,
      "outputs": [
        {
          "output_type": "stream",
          "name": "stdout",
          "text": [
            "Average log-likelihood for MAP is -32.048\n",
            "Training accuracy for MAP is 0.651\n",
            "Test accuracy for MAP is 0.637\n"
          ]
        }
      ]
    },
    {
      "cell_type": "markdown",
      "source": [
        "## Q2.4\n",
        "[2pts] Given this model's assumptions, is it always true that any two pixels $x_i$ and $x_j$ with $i \\neq j$ are indenepdent given $c$? How about after marginalizing over $c$? Explain your answer."
      ],
      "metadata": {
        "id": "qFJkXeMK2mwP"
      }
    },
    {
      "cell_type": "markdown",
      "source": [
        "Your answer:           \n",
        "We can assume $p(x_i,x_j) = p(x_i|c)p(x_j|c)$ and we will assume independence , thus $p(x_i,x_j) = p(x_i)p(x_j)$           \n",
        "Then when we marginalize over c we can notice,              \n",
        "$p(x_i,x_j) = Σ^{10}_{c=1}p(x_i,x_j,c)$          \n",
        "by Bayse we rule,         \n",
        "$=Σ^{10}_{c=1}p(x_i,x_j|c)p(c)$       \n",
        "$Σ^{10}_{c=1}p(x_i|c)p(x_j|c)p(c)$\n",
        "Notice,        \n",
        "$p(x_i)p(x_j) = Σ^{10}_{c=1}p(x_i|c)p(c)Σ^{10}_{c=1}p(x_j|c)p(c)$\n",
        "$\\neq p(x_i,x_j)$ Contradiction.\n",
        "\n",
        "Thus, we do not have independence when we marginalize over c."
      ],
      "metadata": {
        "id": "ImntAmpWOjYe"
      }
    },
    {
      "cell_type": "markdown",
      "source": [
        "## Q2.5 \n",
        "[4pts] Since we have a generative model for our data, we can do more than just prediction. Randomly sample and plot 10 images from the learned distribution using the MAP estimates. (Hint: You first need to sample the class $c$, and then sample pixels conditioned on $c$.)"
      ],
      "metadata": {
        "id": "_P4Y1x_G28QD"
      }
    },
    {
      "cell_type": "code",
      "source": [
        "def image_sampler(theta, pi, num_images):\n",
        "    \"\"\" Inputs: parameters theta and pi, and number of images to sample\n",
        "    Returns the sampled images (N_images x N_features)\"\"\"\n",
        "\n",
        "    N_features = theta.shape[0]\n",
        "    sampled_images = np.zeros([num_images, N_features])\n",
        "    \n",
        "    for i in range(num_images):\n",
        "        sampled_class = np.random.choice(len(pi), p=pi)\n",
        "        sampled_images[i, :] = np.random.binomial(1, theta[:, sampled_class])\n",
        "        \n",
        "    return sampled_images\n",
        "\n",
        "\n",
        "\n",
        "def plot_images(images, ims_per_row=5, padding=5, image_dimensions=(28, 28),\n",
        "                cmap=matplotlib.cm.binary, vmin=0., vmax=1.):\n",
        "    \"\"\"Images should be a (N_images x pixels) matrix.\"\"\"\n",
        "    fig = plt.figure(1)\n",
        "    fig.clf()\n",
        "    ax = fig.add_subplot(111)\n",
        "\n",
        "    N_images = images.shape[0]\n",
        "    N_rows = np.int32(np.ceil(float(N_images) / ims_per_row))\n",
        "    pad_value = vmin\n",
        "    concat_images = np.full(((image_dimensions[0] + padding) * N_rows + padding,\n",
        "                             (image_dimensions[1] + padding) * ims_per_row + padding), pad_value)\n",
        "    for i in range(N_images):\n",
        "        cur_image = np.reshape(images[i, :], image_dimensions)\n",
        "        row_ix = i // ims_per_row\n",
        "        col_ix = i % ims_per_row\n",
        "        row_start = padding + (padding + image_dimensions[0]) * row_ix\n",
        "        col_start = padding + (padding + image_dimensions[1]) * col_ix\n",
        "        concat_images[row_start: row_start + image_dimensions[0],\n",
        "                      col_start: col_start + image_dimensions[1]] = cur_image\n",
        "        cax = ax.matshow(concat_images, cmap=cmap, vmin=vmin, vmax=vmax)\n",
        "        plt.xticks(np.array([]))\n",
        "        plt.yticks(np.array([]))\n",
        "    \n",
        "    plt.plot()\n",
        "\n",
        "\n",
        "sampled_images = image_sampler(theta_est, pi_est, 10)\n",
        "plot_images(sampled_images)"
      ],
      "metadata": {
        "id": "amV0qFMC3myy",
        "colab": {
          "base_uri": "https://localhost:8080/",
          "height": 178
        },
        "outputId": "f1b116b5-497c-4a39-ba24-01b07d895d09"
      },
      "execution_count": null,
      "outputs": [
        {
          "output_type": "display_data",
          "data": {
            "text/plain": [
              "<Figure size 432x288 with 1 Axes>"
            ],
            "image/png": "[encoded data removed]"
          },
          "metadata": {}
        }
      ]
    },
    {
      "cell_type": "markdown",
      "source": [
        "## Q2.6\n",
        "[4pts] One of the advantages of generative models is that they can handle missing data, or be used to answer different sorts of questions about the model. Assume we have only observed some pixels of the image. Let $x_E = \\{x_p : \\text{pixel $p$ is observed}\\}$. Derive an expression for $p(x_j|x_E,\\theta,\\pi)$, the conditional probability of an unobserved pixel $j$ given the observed pixels and distribution parameters. (Hint: You have to marginalize over $c$.)"
      ],
      "metadata": {
        "id": "qCYQ6VVx5YI5"
      }
    },
    {
      "cell_type": "markdown",
      "source": [
        "Your answer:               \n",
        "$p(x_j|x_E,θ,π) = \\frac{p(x_j,x_E|θ,π)}{p(x_E|θ,π)}$          \n",
        "We apply bayes rule and follow the assumptions of naive bayes models, giving us         \n",
        "$\\frac{\\Sigma^{10}_{c=1}p(c|π)p(x_j|c,θp(x_E|c,θ)}{\\Sigma^{10}_{c=1}p(c|π)p(x_E|c,θ)}$ \n",
        "\n"
      ],
      "metadata": {
        "id": "GGT2yAtLOmJW"
      }
    },
    {
      "cell_type": "markdown",
      "source": [
        "## Q2.7\n",
        "[4pts] We assume that only 30% of the pixels are observed. For the first 20 images in the training set, plot the images when the unobserved pixels are left as white, as well as the same images when the unobserved pixels are filled with the marginal probability of the pixel being 1 given the observed pixels, i.e. the value of the unobserved pixel $j$ is $p(x_j = 1|x_E,\\theta,\\pi)$."
      ],
      "metadata": {
        "id": "5qGf4Rwx6ZPy"
      }
    },
    {
      "cell_type": "code",
      "source": [
        "def probabilistic_imputer(theta, pi, original_images, is_observed):\n",
        "    \"\"\"Inputs: parameters theta and pi, original_images (N_images x N_features), \n",
        "        and is_observed which has the same shape as original_images, with a value\n",
        "        1. in every observed entry and 0. in every unobserved entry.\n",
        "    Returns the new images where unobserved pixels are replaced by their \n",
        "    conditional probability\"\"\"\n",
        "    \n",
        "    # YOU NEED TO WRITE THIS PART\n",
        "    N_images, N_features = original_images.shape\n",
        "    imputed_images = original_images.copy()\n",
        "    \n",
        "    for i in range(N_images):\n",
        "        observed = is_observed[i] == 1\n",
        "        theta_obs = theta[observed]\n",
        "        theta_unobs = theta[~observed]\n",
        "        x_obs = original_images[i][observed]\n",
        "        \n",
        "        log_p_x_obs = np.matmul(np.log(theta_obs.T), x_obs) + \\\n",
        "                      np.matmul(np.log(1 - theta_obs.T), 1 - x_obs)\n",
        "        p_x_obs = np.exp(log_p_x_obs) * pi\n",
        "        p_x_unobs = np.sum(theta_unobs * p_x_obs.reshape(1, -1), axis=1) / np.sum(p_x_obs)\n",
        "        \n",
        "        imputed_images[i, ~observed] = p_x_unobs\n",
        "        \n",
        "    return imputed_images\n",
        "    #\n",
        "    \n",
        "num_features = train_images.shape[1]\n",
        "is_observed = np.random.binomial(1, p=0.3, size=(20, num_features))\n",
        "plot_images(train_images[:20] * is_observed)"
      ],
      "metadata": {
        "id": "k8g40hvw6pE_",
        "colab": {
          "base_uri": "https://localhost:8080/",
          "height": 255
        },
        "outputId": "725df018-938a-4477-d815-b982e4d20b0d"
      },
      "execution_count": null,
      "outputs": [
        {
          "output_type": "display_data",
          "data": {
            "text/plain": [
              "<Figure size 432x288 with 1 Axes>"
            ],
            "image/png": "[encoded data removed]"
          },
          "metadata": {}
        }
      ]
    },
    {
      "cell_type": "code",
      "source": [
        "imputed_images = probabilistic_imputer(theta_est, pi_est, train_images[:20], is_observed)\n",
        "plot_images(imputed_images)"
      ],
      "metadata": {
        "id": "RtOM8Ba4uVQj",
        "colab": {
          "base_uri": "https://localhost:8080/",
          "height": 255
        },
        "outputId": "e94d0e33-fc2e-441c-998f-accb5275c970"
      },
      "execution_count": null,
      "outputs": [
        {
          "output_type": "display_data",
          "data": {
            "text/plain": [
              "<Figure size 432x288 with 1 Axes>"
            ],
            "image/png": "[encoded data removed]"
          },
          "metadata": {}
        }
      ]
    }
  ]
}